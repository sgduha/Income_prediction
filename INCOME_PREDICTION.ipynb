{
 "cells": [
  {
   "cell_type": "code",
   "execution_count": 1,
   "id": "f58c7c8b",
   "metadata": {},
   "outputs": [],
   "source": [
    "import pandas as pd\n",
    "import numpy as np\n",
    "import seaborn as sns\n",
    "from sklearn.impute import SimpleImputer\n",
    "import matplotlib.pyplot as plt\n",
    "from sklearn.model_selection import train_test_split\n",
    "from sklearn.impute import KNNImputer\n",
    "from sklearn.preprocessing import LabelEncoder\n",
    "from sklearn.preprocessing import StandardScaler\n",
    "from sklearn.model_selection import train_test_split\n",
    "from sklearn.ensemble import RandomForestClassifier\n",
    "from sklearn.metrics import accuracy_score, classification_report"
   ]
  },
  {
   "cell_type": "code",
   "execution_count": 2,
   "id": "3af0634d",
   "metadata": {},
   "outputs": [],
   "source": [
    "train_df = pd.read_csv('C:/Users/LENOVO/Desktop/project/Datasets/train.csv')\n",
    "test_df = pd.read_csv('C:/Users/LENOVO/Desktop/project/Datasets/test.csv')"
   ]
  },
  {
   "cell_type": "code",
   "execution_count": 3,
   "id": "5f1fedbe",
   "metadata": {},
   "outputs": [
    {
     "data": {
      "text/html": [
       "<div>\n",
       "<style scoped>\n",
       "    .dataframe tbody tr th:only-of-type {\n",
       "        vertical-align: middle;\n",
       "    }\n",
       "\n",
       "    .dataframe tbody tr th {\n",
       "        vertical-align: top;\n",
       "    }\n",
       "\n",
       "    .dataframe thead th {\n",
       "        text-align: right;\n",
       "    }\n",
       "</style>\n",
       "<table border=\"1\" class=\"dataframe\">\n",
       "  <thead>\n",
       "    <tr style=\"text-align: right;\">\n",
       "      <th></th>\n",
       "      <th>ID</th>\n",
       "      <th>age</th>\n",
       "      <th>gender</th>\n",
       "      <th>education</th>\n",
       "      <th>class</th>\n",
       "      <th>education_institute</th>\n",
       "      <th>marital_status</th>\n",
       "      <th>race</th>\n",
       "      <th>is_hispanic</th>\n",
       "      <th>employment_commitment</th>\n",
       "      <th>...</th>\n",
       "      <th>country_of_birth_mother</th>\n",
       "      <th>migration_code_change_in_msa</th>\n",
       "      <th>migration_prev_sunbelt</th>\n",
       "      <th>migration_code_move_within_reg</th>\n",
       "      <th>migration_code_change_in_reg</th>\n",
       "      <th>residence_1_year_ago</th>\n",
       "      <th>old_residence_reg</th>\n",
       "      <th>old_residence_state</th>\n",
       "      <th>importance_of_record</th>\n",
       "      <th>income_above_limit</th>\n",
       "    </tr>\n",
       "  </thead>\n",
       "  <tbody>\n",
       "    <tr>\n",
       "      <th>112617</th>\n",
       "      <td>ID_TZ200555</td>\n",
       "      <td>32</td>\n",
       "      <td>Female</td>\n",
       "      <td>Bachelors degree(BA AB BS)</td>\n",
       "      <td>Federal government</td>\n",
       "      <td>NaN</td>\n",
       "      <td>Married-civilian spouse present</td>\n",
       "      <td>White</td>\n",
       "      <td>All other</td>\n",
       "      <td>Children or Armed Forces</td>\n",
       "      <td>...</td>\n",
       "      <td>US</td>\n",
       "      <td>unchanged</td>\n",
       "      <td>NaN</td>\n",
       "      <td>unchanged</td>\n",
       "      <td>unchanged</td>\n",
       "      <td>Same</td>\n",
       "      <td>NaN</td>\n",
       "      <td>NaN</td>\n",
       "      <td>1498.38</td>\n",
       "      <td>Below limit</td>\n",
       "    </tr>\n",
       "    <tr>\n",
       "      <th>142766</th>\n",
       "      <td>ID_TZ39333</td>\n",
       "      <td>32</td>\n",
       "      <td>Female</td>\n",
       "      <td>5th or 6th grade</td>\n",
       "      <td>NaN</td>\n",
       "      <td>NaN</td>\n",
       "      <td>Never married</td>\n",
       "      <td>White</td>\n",
       "      <td>Mexican (Mexicano)</td>\n",
       "      <td>Children or Armed Forces</td>\n",
       "      <td>...</td>\n",
       "      <td>Mexico</td>\n",
       "      <td>unchanged</td>\n",
       "      <td>NaN</td>\n",
       "      <td>unchanged</td>\n",
       "      <td>unchanged</td>\n",
       "      <td>Same</td>\n",
       "      <td>NaN</td>\n",
       "      <td>NaN</td>\n",
       "      <td>1475.44</td>\n",
       "      <td>Below limit</td>\n",
       "    </tr>\n",
       "    <tr>\n",
       "      <th>118280</th>\n",
       "      <td>ID_TZ205657</td>\n",
       "      <td>43</td>\n",
       "      <td>Male</td>\n",
       "      <td>High school graduate</td>\n",
       "      <td>Private</td>\n",
       "      <td>NaN</td>\n",
       "      <td>Married-civilian spouse present</td>\n",
       "      <td>White</td>\n",
       "      <td>All other</td>\n",
       "      <td>Full-time schedules</td>\n",
       "      <td>...</td>\n",
       "      <td>US</td>\n",
       "      <td>?</td>\n",
       "      <td>?</td>\n",
       "      <td>?</td>\n",
       "      <td>?</td>\n",
       "      <td>NaN</td>\n",
       "      <td>NaN</td>\n",
       "      <td>NaN</td>\n",
       "      <td>1673.69</td>\n",
       "      <td>Below limit</td>\n",
       "    </tr>\n",
       "    <tr>\n",
       "      <th>139405</th>\n",
       "      <td>ID_TZ36278</td>\n",
       "      <td>38</td>\n",
       "      <td>Male</td>\n",
       "      <td>Bachelors degree(BA AB BS)</td>\n",
       "      <td>Private</td>\n",
       "      <td>NaN</td>\n",
       "      <td>Married-civilian spouse present</td>\n",
       "      <td>White</td>\n",
       "      <td>All other</td>\n",
       "      <td>Children or Armed Forces</td>\n",
       "      <td>...</td>\n",
       "      <td>US</td>\n",
       "      <td>unchanged</td>\n",
       "      <td>NaN</td>\n",
       "      <td>unchanged</td>\n",
       "      <td>unchanged</td>\n",
       "      <td>Same</td>\n",
       "      <td>NaN</td>\n",
       "      <td>NaN</td>\n",
       "      <td>3245.80</td>\n",
       "      <td>Above limit</td>\n",
       "    </tr>\n",
       "    <tr>\n",
       "      <th>163019</th>\n",
       "      <td>ID_TZ57745</td>\n",
       "      <td>37</td>\n",
       "      <td>Male</td>\n",
       "      <td>Bachelors degree(BA AB BS)</td>\n",
       "      <td>Private</td>\n",
       "      <td>NaN</td>\n",
       "      <td>Never married</td>\n",
       "      <td>White</td>\n",
       "      <td>All other</td>\n",
       "      <td>Full-time schedules</td>\n",
       "      <td>...</td>\n",
       "      <td>US</td>\n",
       "      <td>?</td>\n",
       "      <td>?</td>\n",
       "      <td>?</td>\n",
       "      <td>?</td>\n",
       "      <td>NaN</td>\n",
       "      <td>NaN</td>\n",
       "      <td>NaN</td>\n",
       "      <td>3726.51</td>\n",
       "      <td>Below limit</td>\n",
       "    </tr>\n",
       "    <tr>\n",
       "      <th>68844</th>\n",
       "      <td>ID_TZ16112</td>\n",
       "      <td>7</td>\n",
       "      <td>Female</td>\n",
       "      <td>Children</td>\n",
       "      <td>NaN</td>\n",
       "      <td>NaN</td>\n",
       "      <td>Never married</td>\n",
       "      <td>White</td>\n",
       "      <td>All other</td>\n",
       "      <td>Children or Armed Forces</td>\n",
       "      <td>...</td>\n",
       "      <td>US</td>\n",
       "      <td>?</td>\n",
       "      <td>?</td>\n",
       "      <td>?</td>\n",
       "      <td>?</td>\n",
       "      <td>NaN</td>\n",
       "      <td>NaN</td>\n",
       "      <td>NaN</td>\n",
       "      <td>1358.64</td>\n",
       "      <td>Below limit</td>\n",
       "    </tr>\n",
       "    <tr>\n",
       "      <th>4377</th>\n",
       "      <td>ID_TZ103041</td>\n",
       "      <td>86</td>\n",
       "      <td>Female</td>\n",
       "      <td>High school graduate</td>\n",
       "      <td>NaN</td>\n",
       "      <td>NaN</td>\n",
       "      <td>Widowed</td>\n",
       "      <td>White</td>\n",
       "      <td>All other</td>\n",
       "      <td>Children or Armed Forces</td>\n",
       "      <td>...</td>\n",
       "      <td>US</td>\n",
       "      <td>unchanged</td>\n",
       "      <td>NaN</td>\n",
       "      <td>unchanged</td>\n",
       "      <td>unchanged</td>\n",
       "      <td>Same</td>\n",
       "      <td>NaN</td>\n",
       "      <td>NaN</td>\n",
       "      <td>3692.72</td>\n",
       "      <td>Below limit</td>\n",
       "    </tr>\n",
       "    <tr>\n",
       "      <th>1120</th>\n",
       "      <td>ID_TZ100107</td>\n",
       "      <td>48</td>\n",
       "      <td>Female</td>\n",
       "      <td>Bachelors degree(BA AB BS)</td>\n",
       "      <td>Self-employed-not incorporated</td>\n",
       "      <td>NaN</td>\n",
       "      <td>Married-civilian spouse present</td>\n",
       "      <td>White</td>\n",
       "      <td>All other</td>\n",
       "      <td>PT for non-econ reasons usually FT</td>\n",
       "      <td>...</td>\n",
       "      <td>US</td>\n",
       "      <td>?</td>\n",
       "      <td>?</td>\n",
       "      <td>?</td>\n",
       "      <td>?</td>\n",
       "      <td>NaN</td>\n",
       "      <td>NaN</td>\n",
       "      <td>NaN</td>\n",
       "      <td>2315.79</td>\n",
       "      <td>Below limit</td>\n",
       "    </tr>\n",
       "    <tr>\n",
       "      <th>120052</th>\n",
       "      <td>ID_TZ207253</td>\n",
       "      <td>7</td>\n",
       "      <td>Female</td>\n",
       "      <td>Children</td>\n",
       "      <td>NaN</td>\n",
       "      <td>NaN</td>\n",
       "      <td>Never married</td>\n",
       "      <td>White</td>\n",
       "      <td>All other</td>\n",
       "      <td>Children or Armed Forces</td>\n",
       "      <td>...</td>\n",
       "      <td>US</td>\n",
       "      <td>unchanged</td>\n",
       "      <td>NaN</td>\n",
       "      <td>unchanged</td>\n",
       "      <td>unchanged</td>\n",
       "      <td>Same</td>\n",
       "      <td>NaN</td>\n",
       "      <td>NaN</td>\n",
       "      <td>326.43</td>\n",
       "      <td>Below limit</td>\n",
       "    </tr>\n",
       "    <tr>\n",
       "      <th>158059</th>\n",
       "      <td>ID_TZ53236</td>\n",
       "      <td>1</td>\n",
       "      <td>Male</td>\n",
       "      <td>Children</td>\n",
       "      <td>NaN</td>\n",
       "      <td>NaN</td>\n",
       "      <td>Never married</td>\n",
       "      <td>White</td>\n",
       "      <td>All other</td>\n",
       "      <td>Children or Armed Forces</td>\n",
       "      <td>...</td>\n",
       "      <td>US</td>\n",
       "      <td>?</td>\n",
       "      <td>?</td>\n",
       "      <td>?</td>\n",
       "      <td>?</td>\n",
       "      <td>NaN</td>\n",
       "      <td>NaN</td>\n",
       "      <td>NaN</td>\n",
       "      <td>465.70</td>\n",
       "      <td>Below limit</td>\n",
       "    </tr>\n",
       "  </tbody>\n",
       "</table>\n",
       "<p>10 rows × 43 columns</p>\n",
       "</div>"
      ],
      "text/plain": [
       "                 ID  age   gender                    education  \\\n",
       "112617  ID_TZ200555   32   Female   Bachelors degree(BA AB BS)   \n",
       "142766   ID_TZ39333   32   Female             5th or 6th grade   \n",
       "118280  ID_TZ205657   43     Male         High school graduate   \n",
       "139405   ID_TZ36278   38     Male   Bachelors degree(BA AB BS)   \n",
       "163019   ID_TZ57745   37     Male   Bachelors degree(BA AB BS)   \n",
       "68844    ID_TZ16112    7   Female                     Children   \n",
       "4377    ID_TZ103041   86   Female         High school graduate   \n",
       "1120    ID_TZ100107   48   Female   Bachelors degree(BA AB BS)   \n",
       "120052  ID_TZ207253    7   Female                     Children   \n",
       "158059   ID_TZ53236    1     Male                     Children   \n",
       "\n",
       "                                  class education_institute  \\\n",
       "112617               Federal government                 NaN   \n",
       "142766                              NaN                 NaN   \n",
       "118280                          Private                 NaN   \n",
       "139405                          Private                 NaN   \n",
       "163019                          Private                 NaN   \n",
       "68844                               NaN                 NaN   \n",
       "4377                                NaN                 NaN   \n",
       "1120     Self-employed-not incorporated                 NaN   \n",
       "120052                              NaN                 NaN   \n",
       "158059                              NaN                 NaN   \n",
       "\n",
       "                          marital_status    race          is_hispanic  \\\n",
       "112617   Married-civilian spouse present   White            All other   \n",
       "142766                     Never married   White   Mexican (Mexicano)   \n",
       "118280   Married-civilian spouse present   White            All other   \n",
       "139405   Married-civilian spouse present   White            All other   \n",
       "163019                     Never married   White            All other   \n",
       "68844                      Never married   White            All other   \n",
       "4377                             Widowed   White            All other   \n",
       "1120     Married-civilian spouse present   White            All other   \n",
       "120052                     Never married   White            All other   \n",
       "158059                     Never married   White            All other   \n",
       "\n",
       "                      employment_commitment  ... country_of_birth_mother  \\\n",
       "112617             Children or Armed Forces  ...                      US   \n",
       "142766             Children or Armed Forces  ...                  Mexico   \n",
       "118280                  Full-time schedules  ...                      US   \n",
       "139405             Children or Armed Forces  ...                      US   \n",
       "163019                  Full-time schedules  ...                      US   \n",
       "68844              Children or Armed Forces  ...                      US   \n",
       "4377               Children or Armed Forces  ...                      US   \n",
       "1120     PT for non-econ reasons usually FT  ...                      US   \n",
       "120052             Children or Armed Forces  ...                      US   \n",
       "158059             Children or Armed Forces  ...                      US   \n",
       "\n",
       "        migration_code_change_in_msa  migration_prev_sunbelt  \\\n",
       "112617                     unchanged                     NaN   \n",
       "142766                     unchanged                     NaN   \n",
       "118280                             ?                       ?   \n",
       "139405                     unchanged                     NaN   \n",
       "163019                             ?                       ?   \n",
       "68844                              ?                       ?   \n",
       "4377                       unchanged                     NaN   \n",
       "1120                               ?                       ?   \n",
       "120052                     unchanged                     NaN   \n",
       "158059                             ?                       ?   \n",
       "\n",
       "       migration_code_move_within_reg  migration_code_change_in_reg  \\\n",
       "112617                      unchanged                     unchanged   \n",
       "142766                      unchanged                     unchanged   \n",
       "118280                              ?                             ?   \n",
       "139405                      unchanged                     unchanged   \n",
       "163019                              ?                             ?   \n",
       "68844                               ?                             ?   \n",
       "4377                        unchanged                     unchanged   \n",
       "1120                                ?                             ?   \n",
       "120052                      unchanged                     unchanged   \n",
       "158059                              ?                             ?   \n",
       "\n",
       "        residence_1_year_ago old_residence_reg  old_residence_state  \\\n",
       "112617                  Same               NaN                  NaN   \n",
       "142766                  Same               NaN                  NaN   \n",
       "118280                   NaN               NaN                  NaN   \n",
       "139405                  Same               NaN                  NaN   \n",
       "163019                   NaN               NaN                  NaN   \n",
       "68844                    NaN               NaN                  NaN   \n",
       "4377                    Same               NaN                  NaN   \n",
       "1120                     NaN               NaN                  NaN   \n",
       "120052                  Same               NaN                  NaN   \n",
       "158059                   NaN               NaN                  NaN   \n",
       "\n",
       "       importance_of_record  income_above_limit  \n",
       "112617              1498.38         Below limit  \n",
       "142766              1475.44         Below limit  \n",
       "118280              1673.69         Below limit  \n",
       "139405              3245.80         Above limit  \n",
       "163019              3726.51         Below limit  \n",
       "68844               1358.64         Below limit  \n",
       "4377                3692.72         Below limit  \n",
       "1120                2315.79         Below limit  \n",
       "120052               326.43         Below limit  \n",
       "158059               465.70         Below limit  \n",
       "\n",
       "[10 rows x 43 columns]"
      ]
     },
     "execution_count": 3,
     "metadata": {},
     "output_type": "execute_result"
    }
   ],
   "source": [
    "train_df.sample(10)"
   ]
  },
  {
   "cell_type": "code",
   "execution_count": 4,
   "id": "dffc9b56",
   "metadata": {},
   "outputs": [
    {
     "data": {
      "text/plain": [
       "(209499, 43)"
      ]
     },
     "execution_count": 4,
     "metadata": {},
     "output_type": "execute_result"
    }
   ],
   "source": [
    "train_df.shape"
   ]
  },
  {
   "cell_type": "code",
   "execution_count": null,
   "id": "8d37437c",
   "metadata": {},
   "outputs": [],
   "source": [
    "train_df.isna().sum()"
   ]
  },
  {
   "cell_type": "code",
   "execution_count": null,
   "id": "6773c881",
   "metadata": {},
   "outputs": [],
   "source": [
    "# Select only numeric columns\n",
    "numeric_columns = train_df.select_dtypes(include=['number'])\n",
    "\n",
    "# Calculate the correlation matrix\n",
    "correlation_matrix = numeric_columns.corr()\n",
    "\n",
    "# Print the correlation matrix\n",
    "print(\"Correlation Matrix:\")\n",
    "print(correlation_matrix)\n",
    "\n",
    "# If you want to see correlation values for a specific feature, you can do:\n",
    "# Replace 'target_feature' with the name of the feature you're interested in\n",
    "target_feature_correlation = correlation_matrix['importance_of_record']\n",
    "print(\"\\nCorrelation with Target Feature:\")\n",
    "print(target_feature_correlation)\n"
   ]
  },
  {
   "cell_type": "code",
   "execution_count": 1,
   "id": "a7191c16",
   "metadata": {},
   "outputs": [
    {
     "ename": "NameError",
     "evalue": "name 'train_df' is not defined",
     "output_type": "error",
     "traceback": [
      "\u001b[1;31m---------------------------------------------------------------------------\u001b[0m",
      "\u001b[1;31mNameError\u001b[0m                                 Traceback (most recent call last)",
      "Cell \u001b[1;32mIn[1], line 2\u001b[0m\n\u001b[0;32m      1\u001b[0m \u001b[38;5;66;03m# Select only numeric columns\u001b[39;00m\n\u001b[1;32m----> 2\u001b[0m numeric_columns \u001b[38;5;241m=\u001b[39m \u001b[43mtrain_df\u001b[49m\u001b[38;5;241m.\u001b[39mselect_dtypes(include\u001b[38;5;241m=\u001b[39m[\u001b[38;5;124m'\u001b[39m\u001b[38;5;124mnumber\u001b[39m\u001b[38;5;124m'\u001b[39m])\n\u001b[0;32m      4\u001b[0m \u001b[38;5;66;03m# Calculate the correlation matrix\u001b[39;00m\n\u001b[0;32m      5\u001b[0m correlation_matrix \u001b[38;5;241m=\u001b[39m numeric_columns\u001b[38;5;241m.\u001b[39mcorr()\n",
      "\u001b[1;31mNameError\u001b[0m: name 'train_df' is not defined"
     ]
    }
   ],
   "source": [
    "# Select only numeric columns\n",
    "numeric_columns = train_df.select_dtypes(include=['number'])\n",
    "\n",
    "# Calculate the correlation matrix\n",
    "correlation_matrix = numeric_columns.corr()\n",
    "\n",
    "# Plot the correlation heatmap\n",
    "plt.figure(figsize=(12, 8))\n",
    "sns.heatmap(correlation_matrix, annot=True, cmap='coolwarm', fmt=\".2f\", linewidths=0.5)\n",
    "plt.title('Correlation Heatmap')\n",
    "plt.show()"
   ]
  },
  {
   "cell_type": "code",
   "execution_count": null,
   "id": "f9d5462b",
   "metadata": {},
   "outputs": [],
   "source": [
    "X_train = train_df.iloc[:,:-2]\n",
    "Y_train = train_df.iloc[:,-1]\n",
    "X_test = test_df"
   ]
  },
  {
   "cell_type": "code",
   "execution_count": null,
   "id": "e30c4c15",
   "metadata": {},
   "outputs": [],
   "source": [
    "train_df['income_above_limit'].head(5)"
   ]
  },
  {
   "cell_type": "code",
   "execution_count": null,
   "id": "ac7f9d22",
   "metadata": {},
   "outputs": [],
   "source": [
    "train_df['income_above_limit'] = train_df['income_above_limit'].map({'Above limit': 1, 'Below limit': 0})"
   ]
  },
  {
   "cell_type": "code",
   "execution_count": null,
   "id": "0ae5b66c",
   "metadata": {},
   "outputs": [],
   "source": [
    "train_df['income_above_limit'].sample(10)"
   ]
  },
  {
   "cell_type": "code",
   "execution_count": null,
   "id": "0296ca31",
   "metadata": {},
   "outputs": [],
   "source": [
    "missing_percentage = {col: (train_df[col].isnull().sum() / len(train_df[col])) * 100 for col in train_df.columns}\n",
    "missing_val = pd.DataFrame({'%_missing_val': missing_percentage})\n",
    "missing_val"
   ]
  },
  {
   "cell_type": "code",
   "execution_count": null,
   "id": "fe02e58d",
   "metadata": {},
   "outputs": [],
   "source": [
    "train_df.drop(columns=['ID','class','education_institute','unemployment_reason','is_labor_union','occupation_code_main','under_18_family','veterans_admin_questionnaire','migration_prev_sunbelt','residence_1_year_ago','old_residence_reg','old_residence_state'],inplace=True)"
   ]
  },
  {
   "cell_type": "code",
   "execution_count": null,
   "id": "5e670992",
   "metadata": {},
   "outputs": [],
   "source": [
    "test_df.drop(columns=['ID','class','education_institute','unemployment_reason','is_labor_union','occupation_code_main','under_18_family','veterans_admin_questionnaire','migration_prev_sunbelt','residence_1_year_ago','old_residence_reg','old_residence_state'],inplace=True)"
   ]
  },
  {
   "cell_type": "code",
   "execution_count": null,
   "id": "7cc19601",
   "metadata": {},
   "outputs": [],
   "source": [
    "#handling missing values\n",
    "original_class=pd.DataFrame(train_df[\"migration_code_change_in_msa\"].value_counts()/train_df.shape[0])\n",
    "\n",
    "train_df['migration_code_change_in_msa_imputed']=train_df['migration_code_change_in_msa']\n",
    "\n",
    "train_df['migration_code_change_in_msa_imputed'][train_df['migration_code_change_in_msa_imputed'].isnull()] = train_df['migration_code_change_in_msa'].dropna().sample(train_df['migration_code_change_in_msa'].isnull().sum(),replace=True).values"
   ]
  },
  {
   "cell_type": "code",
   "execution_count": null,
   "id": "5d420f54",
   "metadata": {},
   "outputs": [],
   "source": [
    "# Calculate the frequency of each category in the column 'migration_code_change_in_msa'\n",
    "original_class = train_df[\"migration_code_change_in_msa\"].value_counts(normalize=True).to_frame()\n",
    "\n",
    "# Create a copy of the column 'migration_code_change_in_msa' to impute missing values\n",
    "train_df['migration_code_change_in_msa_imputed'] = train_df['migration_code_change_in_msa']\n",
    "\n",
    "# Get the non-missing values from the column 'migration_code_change_in_msa'\n",
    "non_missing_values = train_df['migration_code_change_in_msa'].dropna()\n",
    "\n",
    "# Sample from the non-missing values to impute missing values\n",
    "imputed_values = np.random.choice(non_missing_values, size=train_df['migration_code_change_in_msa'].isnull().sum(), replace=True)\n",
    "\n",
    "# Replace missing values with imputed values\n",
    "train_df.loc[train_df['migration_code_change_in_msa_imputed'].isnull(), 'migration_code_change_in_msa_imputed'] = imputed_values"
   ]
  },
  {
   "cell_type": "code",
   "execution_count": null,
   "id": "c4067dfa",
   "metadata": {},
   "outputs": [],
   "source": [
    "# Calculate the frequency of each category in the column 'migration_code_change_in_msa'\n",
    "original_class = test_df[\"migration_code_change_in_msa\"].value_counts(normalize=True).to_frame()\n",
    "\n",
    "# Create a copy of the column 'migration_code_change_in_msa' to impute missing values\n",
    "test_df['migration_code_change_in_msa_imputed'] = test_df['migration_code_change_in_msa']\n",
    "\n",
    "# Get the non-missing values from the column 'migration_code_change_in_msa'\n",
    "non_missing_values = test_df['migration_code_change_in_msa'].dropna()\n",
    "\n",
    "# Sample from the non-missing values to impute missing values\n",
    "imputed_values = np.random.choice(non_missing_values, size=test_df['migration_code_change_in_msa'].isnull().sum(), replace=True)\n",
    "\n",
    "# Replace missing values with imputed values\n",
    "test_df.loc[test_df['migration_code_change_in_msa_imputed'].isnull(), 'migration_code_change_in_msa_imputed'] = imputed_values"
   ]
  },
  {
   "cell_type": "code",
   "execution_count": null,
   "id": "d69ebf19",
   "metadata": {},
   "outputs": [],
   "source": [
    "train_df['migration_code_change_in_msa']"
   ]
  },
  {
   "cell_type": "code",
   "execution_count": null,
   "id": "7f03adf0",
   "metadata": {},
   "outputs": [],
   "source": [
    "missing_percentage = train_df.apply(lambda x: (x.isnull().sum() / len(x)) * 100)\n",
    "missing_val = pd.DataFrame({'%_missing_val': missing_percentage})\n",
    "missing_percentage"
   ]
  },
  {
   "cell_type": "code",
   "execution_count": null,
   "id": "4df29a5a",
   "metadata": {},
   "outputs": [],
   "source": [
    "# Count the occurrences of each category\n",
    "class_counts = train_df['migration_code_change_in_msa'].value_counts()\n",
    "class_count_imputed= train_df['migration_code_change_in_msa_imputed'].value_counts()\n",
    "# Plotting histograms using seaborn\n",
    "plt.figure(figsize=(10, 6))\n",
    "sns.histplot(train_df['migration_code_change_in_msa'], color='orange', label='migration_code_change_in_msa', stat='count', discrete=True)\n",
    "sns.histplot(train_df['migration_code_change_in_msa_imputed'], color='blue', label='migration_code_change_in_msa_imputed', stat='count', discrete=True)\n",
    "\n",
    "# Adding labels and legend\n",
    "plt.xlabel('migration_code_change_in_msa')\n",
    "plt.ylabel('Count')\n",
    "plt.title('Histograms of migration_code_change_in_msa_imputed + imputed-migration_code_change_in_msa')\n",
    "plt.legend()\n",
    "\n",
    "# Show the plot\n",
    "plt.show()"
   ]
  },
  {
   "cell_type": "code",
   "execution_count": null,
   "id": "7c465fca",
   "metadata": {},
   "outputs": [],
   "source": [
    "# Calculate the percentage of each category in the original column 'migration_code_change_in_msa'\n",
    "temp_left = (train_df['migration_code_change_in_msa'].value_counts() / len(train_df)) * 100\n",
    "\n",
    "# Calculate the percentage of each category in the imputed column 'migration_code_change_in_msa_imputed'\n",
    "temp_right = (train_df['migration_code_change_in_msa_imputed'].value_counts() / len(train_df)) * 100\n",
    "\n",
    "# Concatenate the two DataFrames side by side for comparison\n",
    "result_final = pd.concat([temp_left, temp_right], axis=1)\n",
    "\n",
    "# Display the result to compare the proportions\n",
    "result_final\n"
   ]
  },
  {
   "cell_type": "code",
   "execution_count": null,
   "id": "b7d21d33",
   "metadata": {},
   "outputs": [],
   "source": [
    "# Count the occurrences of each category\n",
    "class_counts = train_df['migration_code_change_in_msa'].value_counts()\n",
    "class_count_imputed= train_df['migration_code_change_in_msa_imputed'].value_counts()\n",
    "# Plotting histograms using seaborn\n",
    "plt.figure(figsize=(10, 6))\n",
    "sns.histplot(train_df['migration_code_change_in_msa'], color='orange', label='migration_code_change_in_msa', stat='count', discrete=True)\n",
    "sns.histplot(train_df['migration_code_change_in_msa_imputed'], color='blue', label='migration_code_change_in_msa_imputed', stat='count', discrete=True)\n",
    "\n",
    "# Adding labels and legend\n",
    "plt.xlabel('migration_code_change_in_msa')\n",
    "plt.ylabel('Count')\n",
    "plt.title('Histograms of migration_code_change_in_msa_imputed + imputed-migration_code_change_in_msa')\n",
    "plt.legend()\n",
    "\n",
    "# Show the plot\n",
    "plt.show()"
   ]
  },
  {
   "cell_type": "code",
   "execution_count": null,
   "id": "444ba727",
   "metadata": {},
   "outputs": [],
   "source": [
    "# Calculate the percentage of each category in the original column 'migration_code_change_in_msa'\n",
    "temp_left = (train_df['migration_code_change_in_msa'].value_counts() / len(train_df)) * 100\n",
    "\n",
    "# Calculate the percentage of each category in the imputed column 'migration_code_change_in_msa_imputed'\n",
    "temp_right = (train_df['migration_code_change_in_msa_imputed'].value_counts() / len(train_df)) * 100\n",
    "\n",
    "# Concatenate the two DataFrames side by side for comparison\n",
    "result_final = pd.concat([temp_left, temp_right], axis=1)\n",
    "\n",
    "# Display the result to compare the proportions\n",
    "result_final\n"
   ]
  },
  {
   "cell_type": "code",
   "execution_count": null,
   "id": "a5fc1095",
   "metadata": {},
   "outputs": [],
   "source": [
    "test_df['migration_code_change_in_msa']=test_df['migration_code_change_in_msa_imputed']\n",
    "train_df['migration_code_change_in_msa']=train_df['migration_code_change_in_msa_imputed']"
   ]
  },
  {
   "cell_type": "code",
   "execution_count": null,
   "id": "ab5feffe",
   "metadata": {},
   "outputs": [],
   "source": [
    "# Calculate the frequency of each category in the column 'migration_code_change_in_msa'\n",
    "original_class = train_df[\"migration_code_change_in_msa\"].value_counts(normalize=True).to_frame()\n",
    "\n",
    "# Create a copy of the column 'migration_code_change_in_msa' to impute missing values\n",
    "train_df['migration_code_change_in_msa_imputed'] = train_df['migration_code_change_in_msa']\n",
    "\n",
    "# Get the non-missing values from the column 'migration_code_change_in_msa'\n",
    "non_missing_values = train_df['migration_code_change_in_msa'].dropna()\n",
    "\n",
    "# Sample from the non-missing values to impute missing values\n",
    "imputed_values = np.random.choice(non_missing_values, size=train_df['migration_code_change_in_msa'].isnull().sum(), replace=True)\n",
    "\n",
    "# Replace missing values with imputed values\n",
    "train_df.loc[train_df['migration_code_change_in_msa_imputed'].isnull(), 'migration_code_change_in_msa_imputed'] = imputed_values"
   ]
  },
  {
   "cell_type": "code",
   "execution_count": null,
   "id": "15fdcdff",
   "metadata": {},
   "outputs": [],
   "source": [
    "train_df.groupby('gender')['income_above_limit'].value_counts().unstack().plot(kind='bar', stacked=True)"
   ]
  },
  {
   "cell_type": "code",
   "execution_count": null,
   "id": "d7a7f1d3",
   "metadata": {},
   "outputs": [],
   "source": [
    "train_df.groupby('education')['income_above_limit'].value_counts().unstack().plot(kind='bar', stacked=True)"
   ]
  },
  {
   "cell_type": "code",
   "execution_count": null,
   "id": "abf87c6e",
   "metadata": {},
   "outputs": [],
   "source": [
    "train_df[['education','income_above_limit']].groupby('education').mean()*100"
   ]
  },
  {
   "cell_type": "code",
   "execution_count": null,
   "id": "64c85b2f",
   "metadata": {},
   "outputs": [],
   "source": [
    "train_df.groupby('marital_status')['income_above_limit'].value_counts().unstack().plot(kind='bar', stacked=True)"
   ]
  },
  {
   "cell_type": "code",
   "execution_count": null,
   "id": "f01e00e2",
   "metadata": {},
   "outputs": [],
   "source": [
    "train_df[['marital_status','income_above_limit']].groupby('marital_status').mean()*100"
   ]
  },
  {
   "cell_type": "code",
   "execution_count": null,
   "id": "b8cd5de3",
   "metadata": {},
   "outputs": [],
   "source": [
    "train_df['migration_code_move_within_reg'].value_counts()"
   ]
  },
  {
   "cell_type": "code",
   "execution_count": null,
   "id": "4bd4cb9b",
   "metadata": {},
   "outputs": [],
   "source": [
    "#handling missing values\n",
    "original_class=pd.DataFrame(train_df[\"migration_code_change_in_msa\"].value_counts()/train_df.shape[0])\n",
    "\n",
    "train_df['migration_code_change_in_msa_imputed']=train_df['migration_code_change_in_msa']\n",
    "\n",
    "train_df['migration_code_change_in_msa_imputed'][train_df['migration_code_change_in_msa_imputed'].isnull()] = train_df['migration_code_change_in_msa'].dropna().sample(train_df['migration_code_change_in_msa'].isnull().sum(),replace=True).values"
   ]
  },
  {
   "cell_type": "code",
   "execution_count": null,
   "id": "4ccaff28",
   "metadata": {},
   "outputs": [],
   "source": [
    "train_df['migration_code_change_in_reg'].value_counts()"
   ]
  },
  {
   "cell_type": "code",
   "execution_count": null,
   "id": "6c3702da",
   "metadata": {},
   "outputs": [],
   "source": [
    "train_df[['migration_code_change_in_reg','migration_code_move_within_reg']].sample(10) #duplicate columns"
   ]
  },
  {
   "cell_type": "code",
   "execution_count": null,
   "id": "d06df196",
   "metadata": {},
   "outputs": [],
   "source": [
    "train_df.drop(columns=['migration_code_change_in_reg','migration_code_move_within_reg','migration_code_change_in_msa_imputed'],inplace=True)"
   ]
  },
  {
   "cell_type": "code",
   "execution_count": null,
   "id": "a896b582",
   "metadata": {},
   "outputs": [],
   "source": [
    "train_df.isnull().mean()"
   ]
  },
  {
   "cell_type": "code",
   "execution_count": null,
   "id": "4e255657",
   "metadata": {},
   "outputs": [],
   "source": [
    "categorical_columns = train_df.select_dtypes(include=['object']).columns.tolist()"
   ]
  },
  {
   "cell_type": "code",
   "execution_count": null,
   "id": "779a45fb",
   "metadata": {},
   "outputs": [],
   "source": [
    "train_df[categorical_columns].info()"
   ]
  },
  {
   "cell_type": "code",
   "execution_count": null,
   "id": "07b303c5",
   "metadata": {},
   "outputs": [],
   "source": [
    "categorical_col=['gender','education','marital_status','race','is_hispanic','employment_commitment','industry_code_main','household_stat','household_summary','tax_status','citizenship','country_of_birth_own','country_of_birth_father','country_of_birth_mother','migration_code_change_in_msa']"
   ]
  },
  {
   "cell_type": "code",
   "execution_count": null,
   "id": "af567cc1",
   "metadata": {},
   "outputs": [],
   "source": [
    "numerical_columns = [col for col in train_df.columns if col not in categorical_columns]\n"
   ]
  },
  {
   "cell_type": "code",
   "execution_count": null,
   "id": "0e021fe0",
   "metadata": {},
   "outputs": [],
   "source": [
    "label_encoders = {}\n",
    "for col in categorical_columns:\n",
    "    le = LabelEncoder()\n",
    "    train_df[col] = le.fit_transform(train_df[col])\n",
    "    label_encoders[col] = le"
   ]
  },
  {
   "cell_type": "code",
   "execution_count": null,
   "id": "97f6aa3e",
   "metadata": {},
   "outputs": [],
   "source": [
    "train_df_numerical=train_df[numerical_columns]"
   ]
  },
  {
   "cell_type": "code",
   "execution_count": null,
   "id": "1b96f045",
   "metadata": {},
   "outputs": [],
   "source": [
    "train_df_categorical=train_df[categorical_col]"
   ]
  },
  {
   "cell_type": "code",
   "execution_count": null,
   "id": "04735a44",
   "metadata": {},
   "outputs": [],
   "source": [
    "train_df_numerical.isnull().mean() #missing data in dataset"
   ]
  },
  {
   "cell_type": "code",
   "execution_count": null,
   "id": "0833bb48",
   "metadata": {},
   "outputs": [],
   "source": [
    "le=LabelEncoder()"
   ]
  },
  {
   "cell_type": "code",
   "execution_count": null,
   "id": "8e9901bb",
   "metadata": {},
   "outputs": [],
   "source": [
    "for i in categorical_col:\n",
    "    train_df[i]=le.fit_transform(train_df[i])"
   ]
  },
  {
   "cell_type": "code",
   "execution_count": null,
   "id": "4c454af9",
   "metadata": {},
   "outputs": [],
   "source": [
    "scaler=StandardScaler()"
   ]
  },
  {
   "cell_type": "code",
   "execution_count": null,
   "id": "72c358a0",
   "metadata": {},
   "outputs": [],
   "source": [
    "for i in train_df_numerical:\n",
    "    train_df[i]=le.fit_transform(train_df[i])"
   ]
  },
  {
   "cell_type": "code",
   "execution_count": null,
   "id": "a30bf99a",
   "metadata": {},
   "outputs": [],
   "source": [
    "#other columns\n",
    "other_col=[]\n",
    "for i in train_df.columns:\n",
    "    if ((i not in categorical_columns) and (i not in train_df_numerical)):\n",
    "        other_col.append(i)"
   ]
  },
  {
   "cell_type": "code",
   "execution_count": null,
   "id": "65c4cdaf",
   "metadata": {},
   "outputs": [],
   "source": [
    "train_df['income_above_limit']"
   ]
  },
  {
   "cell_type": "code",
   "execution_count": null,
   "id": "f57703a0",
   "metadata": {},
   "outputs": [],
   "source": [
    "X = train_df.drop(columns=['income_above_limit'])\n",
    "Y = train_df['income_above_limit']\n",
    "\n",
    "# Split dataset into training and testing sets\n",
    "X_train, X_test, Y_train, Y_test = train_test_split(X, Y, test_size=0.25, random_state=256)\n",
    "\n",
    "# Train RandomForestClassifier\n",
    "rfc = RandomForestClassifier()\n",
    "rfc.fit(X_train, Y_train)"
   ]
  },
  {
   "cell_type": "code",
   "execution_count": null,
   "id": "e1773cb9",
   "metadata": {},
   "outputs": [],
   "source": [
    "# Make predictions on the testing set\n",
    "Y_pred = rfc.predict(X_test)\n",
    "\n",
    "# Evaluate the performance of the model\n",
    "from sklearn.metrics import accuracy_score, classification_report, confusion_matrix\n",
    "\n",
    "# Calculate accuracy\n",
    "accuracy = accuracy_score(Y_test, Y_pred)\n",
    "print(\"Accuracy:\", accuracy)\n",
    "\n",
    "# Generate a classification report\n",
    "print(\"\\nClassification Report:\")\n",
    "print(classification_report(Y_test, Y_pred))\n",
    "\n",
    "# Generate a confusion matrix\n",
    "print(\"\\nConfusion Matrix:\")\n",
    "print(confusion_matrix(Y_test, Y_pred))\n"
   ]
  },
  {
   "cell_type": "code",
   "execution_count": null,
   "id": "0a1ba677",
   "metadata": {},
   "outputs": [],
   "source": [
    "data_point = X.loc[65225]\n",
    "prediction = rfc.predict([data_point])\n",
    "\n",
    "# Output the prediction\n",
    "print(\"Prediction for the selected data point:\", prediction[0])\n",
    "if(prediction[0] == 1):\n",
    "     print('Above limit')\n",
    "else:\n",
    "     print('Below limit')"
   ]
  },
  {
   "cell_type": "code",
   "execution_count": null,
   "id": "a5c92ec8",
   "metadata": {},
   "outputs": [],
   "source": [
    "# Get feature importance scores from the trained RandomForestClassifier model\n",
    "feature_importance = rfc.feature_importances_\n",
    "\n",
    "# Create a DataFrame to display feature importance\n",
    "feature_importance_df = pd.DataFrame({'Feature': X.columns, 'Importance': feature_importance})\n",
    "\n",
    "# Sort the DataFrame by feature importance (descending order)\n",
    "feature_importance_df = feature_importance_df.sort_values(by='Importance', ascending=False)\n",
    "\n",
    "# Print the top features by importance\n",
    "print(\"Top features by importance:\")\n",
    "print(feature_importance_df.head(10))\n",
    "\n",
    "# Plot feature importance\n",
    "plt.figure(figsize=(10, 6))\n",
    "sns.barplot(x='Importance', y='Feature', data=feature_importance_df.head(10), palette='viridis')\n",
    "plt.title('Top 10 Features by Importance')\n",
    "plt.xlabel('Importance')\n",
    "plt.ylabel('Feature')\n",
    "plt.show()\n"
   ]
  },
  {
   "cell_type": "code",
   "execution_count": null,
   "id": "6f72e4e8",
   "metadata": {},
   "outputs": [],
   "source": [
    "from sklearn.metrics import precision_recall_fscore_support\n",
    "# Calculate precision, recall, and F1-score\n",
    "# Calculate precision, recall, and F1-score\n",
    "precision, recall, f1_score, _ = precision_recall_fscore_support(Y_test, Y_pred, average='binary')\n",
    "accuracy = accuracy_score(Y_test, Y_pred)\n",
    "\n",
    "# Create a DataFrame for the metrics\n",
    "metrics_df = pd.DataFrame({\n",
    "    'Metric': ['Precision', 'Recall', 'F1-score', 'Accuracy'],\n",
    "    'Score': [precision, recall, f1_score, accuracy]\n",
    "})\n",
    "\n",
    "# Plot the metrics using seaborn\n",
    "plt.figure(figsize=(10, 6))\n",
    "sns.pointplot(x='Metric', y='Score', data=metrics_df, color='blue', markers='o')\n",
    "plt.title('Model Evaluation Metrics')\n",
    "plt.ylabel('Score')\n",
    "plt.ylim(0, 1)  # Set y-axis limit from 0 to 1\n",
    "plt.grid(True)  # Add gridlines for better readability\n",
    "plt.show()"
   ]
  }
 ],
 "metadata": {
  "kernelspec": {
   "display_name": "Python 3 (ipykernel)",
   "language": "python",
   "name": "python3"
  },
  "language_info": {
   "codemirror_mode": {
    "name": "ipython",
    "version": 3
   },
   "file_extension": ".py",
   "mimetype": "text/x-python",
   "name": "python",
   "nbconvert_exporter": "python",
   "pygments_lexer": "ipython3",
   "version": "3.11.3"
  }
 },
 "nbformat": 4,
 "nbformat_minor": 5
}
